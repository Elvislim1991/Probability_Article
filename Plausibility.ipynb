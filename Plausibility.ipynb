{
 "cells": [
  {
   "cell_type": "code",
   "execution_count": 1,
   "metadata": {},
   "outputs": [
    {
     "name": "stdout",
     "output_type": "stream",
     "text": [
      "                       index  No_of_Ways  Plausibility  Red  Yellow  Blue\n",
      "0   10 Red, 0 Yellow, 0 Blue           0      0.000000   10       0     0\n",
      "1    9 Red, 1 Yellow, 0 Blue           0      0.000000    9       1     0\n",
      "2    9 Red, 0 Yellow, 1 Blue           0      0.000000    9       0     1\n",
      "3    8 Red, 2 Yellow, 0 Blue           0      0.000000    8       2     0\n",
      "4    8 Red, 1 Yellow, 1 Blue      262144      4.401639    8       1     1\n",
      "..                       ...         ...           ...  ...     ...   ...\n",
      "61   0 Red, 4 Yellow, 6 Blue           0      0.000000    0       4     6\n",
      "62   0 Red, 3 Yellow, 7 Blue           0      0.000000    0       3     7\n",
      "63   0 Red, 2 Yellow, 8 Blue           0      0.000000    0       2     8\n",
      "64   0 Red, 1 Yellow, 9 Blue           0      0.000000    0       1     9\n",
      "65  0 Red, 0 Yellow, 10 Blue           0      0.000000    0       0    10\n",
      "\n",
      "[66 rows x 6 columns]\n"
     ]
    },
    {
     "data": {
      "text/plain": [
       "<matplotlib.axes._subplots.AxesSubplot at 0x249f3c25c08>"
      ]
     },
     "execution_count": 1,
     "metadata": {},
     "output_type": "execute_result"
    },
    {
     "data": {
      "image/png": "[encoded data removed]",
      "text/plain": [
       "<Figure size 432x288 with 1 Axes>"
      ]
     },
     "metadata": {
      "needs_background": "light"
     },
     "output_type": "display_data"
    }
   ],
   "source": [
    "import pandas as pd\n",
    "import itertools\n",
    "%matplotlib notebook\n",
    "\n",
    "x = list(itertools.combinations_with_replacement(['Red', 'Yellow', 'Blue'], 10))\n",
    "\n",
    "Result = {}   # Use dict to store results\n",
    "\n",
    "for pairs in x:\n",
    "    red_count = pairs.count('Red')\n",
    "    yellow_count = pairs.count('Yellow')\n",
    "    blue_count = pairs.count('Blue')\n",
    "    no_of_ways = red_count*yellow_count*blue_count*red_count*red_count*red_count*red_count*red_count*blue_count*yellow_count  # Based on the results of the draw\n",
    "    Result[f'{red_count} Red, {yellow_count} Yellow, {blue_count} Blue'] = no_of_ways\n",
    "\n",
    "Res_df = pd.DataFrame(Result, index=['No_of_Ways'])\n",
    "Res_df = Res_df.T\n",
    "\n",
    "Total_No_of_Ways = Res_df.No_of_Ways.sum()\n",
    "Res_df['Plausibility'] = Res_df.apply(lambda x: x / Total_No_of_Ways * 100)\n",
    "\n",
    "Res_df.reset_index(inplace=True)\n",
    "\n",
    "Res_df.loc[:, 'Red'] = Res_df['index'].apply(lambda x: pd.Series(x.split(','))).reset_index().drop('index', axis=1).loc[:, 0]\n",
    "Res_df.loc[:, 'Yellow'] = Res_df['index'].apply(lambda x: pd.Series(x.split(','))).reset_index().drop('index', axis=1).loc[:, 1]\n",
    "Res_df.loc[:, 'Blue'] = Res_df['index'].apply(lambda x: pd.Series(x.split(','))).reset_index().drop('index', axis=1).loc[:, 2]\n",
    "\n",
    "Res_df.loc[:, 'Red'] = Res_df['Red'].apply(lambda x: x.strip('Red')).astype(int)\n",
    "Res_df.loc[:, 'Yellow'] = Res_df['Yellow'].apply(lambda x: x.strip('Yellow')).astype(int)\n",
    "Res_df.loc[:, 'Blue'] = Res_df['Blue'].apply(lambda x: x.strip('Blue')).astype(int)\n",
    "\n",
    "print(Res_df)\n",
    "\n",
    "Res_df[['Plausibility']].sort_values(by='Plausibility', ascending=False).reset_index().cumsum().Plausibility.plot()"
   ]
  },
  {
   "cell_type": "code",
   "execution_count": 12,
   "metadata": {},
   "outputs": [
    {
     "data": {
      "text/plain": [
       "<matplotlib.axes._subplots.AxesSubplot at 0x249f7256888>"
      ]
     },
     "execution_count": 12,
     "metadata": {},
     "output_type": "execute_result"
    },
    {
     "data": {
      "image/png": "[encoded data removed]",
      "text/plain": [
       "<Figure size 432x288 with 1 Axes>"
      ]
     },
     "metadata": {
      "needs_background": "light"
     },
     "output_type": "display_data"
    }
   ],
   "source": [
    "Res_df[['Plausibility']].sort_values(by='Plausibility', ascending=False).reset_index().cumsum().Plausibility.plot()"
   ]
  },
  {
   "cell_type": "code",
   "execution_count": null,
   "metadata": {},
   "outputs": [],
   "source": []
  }
 ],
 "metadata": {
  "kernelspec": {
   "display_name": "Python 3",
   "language": "python",
   "name": "python3"
  },
  "language_info": {
   "codemirror_mode": {
    "name": "ipython",
    "version": 3
   },
   "file_extension": ".py",
   "mimetype": "text/x-python",
   "name": "python",
   "nbconvert_exporter": "python",
   "pygments_lexer": "ipython3",
   "version": "3.7.7"
  }
 },
 "nbformat": 4,
 "nbformat_minor": 4
}
